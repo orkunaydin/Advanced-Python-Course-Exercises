{
 "cells": [
  {
   "cell_type": "markdown",
   "id": "f5c4cef3",
   "metadata": {},
   "source": [
    "# Statistics"
   ]
  },
  {
   "cell_type": "code",
   "execution_count": 1,
   "id": "627e75f0",
   "metadata": {},
   "outputs": [],
   "source": [
    "from scipy import stats\n",
    "import numpy as np\n",
    "from matplotlib import pyplot as plt"
   ]
  },
  {
   "cell_type": "markdown",
   "id": "0da5fabb",
   "metadata": {},
   "source": [
    "### a. Create a discrete random variable with poissonian distribution and plot its probability mass function (PMF), cummulative distribution function (CDF) and a histogram of 1000 random realizations of the variable"
   ]
  },
  {
   "cell_type": "code",
   "execution_count": 2,
   "id": "67ab3f01",
   "metadata": {},
   "outputs": [
    {
     "data": {
      "text/plain": [
       "(array([124., 203., 214., 179., 144., 109.,  16.,   8.,   1.,   2.]),\n",
       " array([ 0. ,  1.2,  2.4,  3.6,  4.8,  6. ,  7.2,  8.4,  9.6, 10.8, 12. ]),\n",
       " <BarContainer object of 10 artists>)"
      ]
     },
     "execution_count": 2,
     "metadata": {},
     "output_type": "execute_result"
    },
    {
     "data": {
      "image/png": "[encoded data removed]",
      "text/plain": [
       "<Figure size 432x288 with 3 Axes>"
      ]
     },
     "metadata": {
      "needs_background": "light"
     },
     "output_type": "display_data"
    }
   ],
   "source": [
    "X = stats.poisson(3.5)\n",
    "\n",
    "n = np.arange(0,15)\n",
    "\n",
    "fig, axes = plt.subplots(3,1,sharex=True)\n",
    "\n",
    "axes[0].step(n,X.pmf(n))\n",
    "axes[1].step(n,X.cdf(n))\n",
    "axes[2].hist(X.rvs(size=1000))"
   ]
  },
  {
   "cell_type": "markdown",
   "id": "3789b257",
   "metadata": {},
   "source": [
    "### b. Create a continious random variable with normal distribution and plot its probability mass function (PMF), cummulative distribution function (CDF) and a histogram of 1000 random realizations of the variable"
   ]
  },
  {
   "cell_type": "code",
   "execution_count": 3,
   "id": "297713ba",
   "metadata": {},
   "outputs": [
    {
     "data": {
      "text/plain": [
       "(array([  5.,  12.,  29., 112., 179., 249., 234., 114.,  50.,  16.]),\n",
       " array([-3.59141194, -2.95366639, -2.31592083, -1.67817528, -1.04042972,\n",
       "        -0.40268417,  0.23506139,  0.87280694,  1.5105525 ,  2.14829805,\n",
       "         2.78604361]),\n",
       " <BarContainer object of 10 artists>)"
      ]
     },
     "execution_count": 3,
     "metadata": {},
     "output_type": "execute_result"
    },
    {
     "data": {
      "image/png": "[encoded data removed]",
      "text/plain": [
       "<Figure size 432x288 with 3 Axes>"
      ]
     },
     "metadata": {
      "needs_background": "light"
     },
     "output_type": "display_data"
    }
   ],
   "source": [
    "Y = stats.norm()\n",
    "\n",
    "x = np.linspace(-5,5,100)\n",
    "\n",
    "fig2, axes2 = plt.subplots(3,1,sharex=True)\n",
    "\n",
    "axes2[0].step(x,Y.pdf(x))\n",
    "axes2[1].step(x,Y.cdf(x))\n",
    "axes2[2].hist(Y.rvs(size=1000))"
   ]
  },
  {
   "cell_type": "code",
   "execution_count": 6,
   "id": "8c262d88",
   "metadata": {},
   "outputs": [
    {
     "data": {
      "text/plain": [
       "Ttest_indResult(statistic=51.786298554497805, pvalue=0.0)"
      ]
     },
     "execution_count": 6,
     "metadata": {},
     "output_type": "execute_result"
    }
   ],
   "source": [
    "stats.ttest_ind(X.rvs(size=1000), Y.rvs(size=1000))\n"
   ]
  },
  {
   "cell_type": "code",
   "execution_count": null,
   "id": "078a6638",
   "metadata": {},
   "outputs": [],
   "source": []
  }
 ],
 "metadata": {
  "kernelspec": {
   "display_name": "Python 3 (ipykernel)",
   "language": "python",
   "name": "python3"
  },
  "language_info": {
   "codemirror_mode": {
    "name": "ipython",
    "version": 3
   },
   "file_extension": ".py",
   "mimetype": "text/x-python",
   "name": "python",
   "nbconvert_exporter": "python",
   "pygments_lexer": "ipython3",
   "version": "3.8.5"
  }
 },
 "nbformat": 4,
 "nbformat_minor": 5
}
