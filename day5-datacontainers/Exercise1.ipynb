{
 "cells": [
  {
   "cell_type": "markdown",
   "id": "3cfcf206",
   "metadata": {},
   "source": [
    "# Day 5 _ Exercise 1"
   ]
  },
  {
   "cell_type": "code",
   "execution_count": 1,
   "id": "722672b0",
   "metadata": {},
   "outputs": [],
   "source": [
    "from scipy import linalg\n",
    "import numpy as np"
   ]
  },
  {
   "cell_type": "markdown",
   "id": "c1b67e59",
   "metadata": {},
   "source": [
    "### a. Define a matrix A"
   ]
  },
  {
   "cell_type": "code",
   "execution_count": 5,
   "id": "6043d906",
   "metadata": {},
   "outputs": [
    {
     "name": "stdout",
     "output_type": "stream",
     "text": [
      "[[2 2 3]\n",
      " [4 5 6]\n",
      " [7 8 9]]\n"
     ]
    }
   ],
   "source": [
    "A = np.array([[2, 2, 3], [4, 5, 6], [7, 8, 9]])\n",
    "print(A)"
   ]
  },
  {
   "cell_type": "markdown",
   "id": "6c9e5d6d",
   "metadata": {},
   "source": [
    "### b. Define a vector b"
   ]
  },
  {
   "cell_type": "code",
   "execution_count": 6,
   "id": "9b2e5527",
   "metadata": {},
   "outputs": [
    {
     "name": "stdout",
     "output_type": "stream",
     "text": [
      "[1 2 3]\n"
     ]
    }
   ],
   "source": [
    "b = np.arange(1,4)\n",
    "print(b)"
   ]
  },
  {
   "cell_type": "markdown",
   "id": "d9d98e2d",
   "metadata": {},
   "source": [
    "\n",
    "### c. Solve the linear system of equations A x = b"
   ]
  },
  {
   "cell_type": "code",
   "execution_count": 10,
   "id": "d4c9ce91",
   "metadata": {},
   "outputs": [],
   "source": [
    "x1 = linalg.solve(A,b)"
   ]
  },
  {
   "cell_type": "markdown",
   "id": "db79e264",
   "metadata": {},
   "source": [
    "### d. Check that your solution is correct by plugging it into the equation"
   ]
  },
  {
   "cell_type": "code",
   "execution_count": 11,
   "id": "062519c4",
   "metadata": {},
   "outputs": [
    {
     "data": {
      "text/plain": [
       "array([ True,  True,  True])"
      ]
     },
     "execution_count": 11,
     "metadata": {},
     "output_type": "execute_result"
    }
   ],
   "source": [
    "np.dot(A, x1) == b"
   ]
  },
  {
   "cell_type": "markdown",
   "id": "8f316786",
   "metadata": {},
   "source": [
    "### e. Repeat steps a-d using a random 3x3 matrix B (instead of the vector b)"
   ]
  },
  {
   "cell_type": "code",
   "execution_count": 12,
   "id": "f8da8064",
   "metadata": {},
   "outputs": [
    {
     "data": {
      "text/plain": [
       "array([[False, False, False],\n",
       "       [False, False, False],\n",
       "       [False, False, False]])"
      ]
     },
     "execution_count": 12,
     "metadata": {},
     "output_type": "execute_result"
    }
   ],
   "source": [
    "B = np.random.rand(3,3)\n",
    "x2 = linalg.solve(A,B)\n",
    "np.dot(A, x2) == B"
   ]
  },
  {
   "cell_type": "markdown",
   "id": "677daef3",
   "metadata": {},
   "source": [
    "### f. Solve the eigenvalue problem for the matrix A and print the eigenvalues and eigenvectors"
   ]
  },
  {
   "cell_type": "code",
   "execution_count": 13,
   "id": "064d418f",
   "metadata": {},
   "outputs": [],
   "source": [
    "eigv,eigv = linalg.eig(A)"
   ]
  },
  {
   "cell_type": "markdown",
   "id": "7cc5a015",
   "metadata": {},
   "source": [
    "### g. Calculate the inverse, determinant of A"
   ]
  },
  {
   "cell_type": "code",
   "execution_count": 15,
   "id": "e97adcec",
   "metadata": {},
   "outputs": [],
   "source": [
    "invA = linalg.inv(A)\n",
    "det_invA = linalg.det(A)"
   ]
  },
  {
   "cell_type": "markdown",
   "id": "60f364e3",
   "metadata": {},
   "source": [
    "### h. Calculate the norm of A with different orders"
   ]
  },
  {
   "cell_type": "code",
   "execution_count": 17,
   "id": "c06ef5b4",
   "metadata": {},
   "outputs": [
    {
     "name": "stdout",
     "output_type": "stream",
     "text": [
      "Order -2 matrix A norm:\n",
      "0.3238716064329893\n",
      "Order -1 matrix A norm:\n",
      "13.0\n",
      "Order 1 matrix A norm:\n",
      "18.0\n",
      "Order 2 matrix A norm:\n",
      "16.958678200465908\n"
     ]
    }
   ],
   "source": [
    "print(\"Order \" + str(-2) + \" matrix A norm:\")\n",
    "print(linalg.norm(A,-2))\n",
    "print(\"Order \" + str(-1) + \" matrix A norm:\")\n",
    "print(linalg.norm(A,-1))\n",
    "print(\"Order \" + str(1) + \" matrix A norm:\")\n",
    "print(linalg.norm(A,1))\n",
    "print(\"Order \" + str(2) + \" matrix A norm:\")\n",
    "print(linalg.norm(A,2))"
   ]
  },
  {
   "cell_type": "code",
   "execution_count": null,
   "id": "e55b9e2a",
   "metadata": {},
   "outputs": [],
   "source": []
  }
 ],
 "metadata": {
  "kernelspec": {
   "display_name": "Python 3 (ipykernel)",
   "language": "python",
   "name": "python3"
  },
  "language_info": {
   "codemirror_mode": {
    "name": "ipython",
    "version": 3
   },
   "file_extension": ".py",
   "mimetype": "text/x-python",
   "name": "python",
   "nbconvert_exporter": "python",
   "pygments_lexer": "ipython3",
   "version": "3.8.5"
  }
 },
 "nbformat": 4,
 "nbformat_minor": 5
}
